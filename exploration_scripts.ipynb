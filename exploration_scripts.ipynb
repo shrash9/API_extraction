{
 "cells": [
  {
   "cell_type": "markdown",
   "id": "d6244f28-3215-4505-8528-95fd144ab1f3",
   "metadata": {},
   "source": [
    "1. Initial API Testing Script\n",
    "- A simple script that made requests to the API to understand its response structure.  \n",
    "- Code that checked different query inputs (e.g., single letters, words) and analyzed how results were returned.  \n",
    "- A script to test the rate limits by sending multiple requests quickly.  "
   ]
  },
  {
   "cell_type": "code",
   "execution_count": 9,
   "id": "9e53e5af-5829-4ef4-bad2-00184a0f7349",
   "metadata": {},
   "outputs": [
    {
     "name": "stdout",
     "output_type": "stream",
     "text": [
      "Query: a | Status: 200\n",
      "Response: {'version': 'v1', 'count': 10, 'results': ['aa', 'aabdknlvkc', 'aabrkcd', 'aadgdqrwdy', 'aagqg', 'aaiha', 'aainmxg', 'aajfebume', 'aajwv', 'aakfubvxv']}\n",
      "Query: test | Status: 200\n",
      "Response: {'version': 'v1', 'count': 0, 'results': []}\n",
      "Query: randomword | Status: 200\n",
      "Response: {'version': 'v1', 'count': 0, 'results': []}\n"
     ]
    }
   ],
   "source": [
    "import requests\n",
    "\n",
    "BASE_URL = \"http://35.200.185.69:8000/v1/autocomplete?query=\"\n",
    "\n",
    "def test_api(prefix):\n",
    "    url = f\"{BASE_URL}{prefix}\"\n",
    "    response = requests.get(url)\n",
    "    print(f\"Query: {prefix} | Status: {response.status_code}\")\n",
    "    if response.status_code == 200:\n",
    "        print(\"Response:\", response.json())\n",
    "\n",
    "\n",
    "test_api(\"a\")\n",
    "test_api(\"test\")\n",
    "test_api(\"randomword\")\n"
   ]
  },
  {
   "cell_type": "markdown",
   "id": "c04408aa-91f3-4f01-a3cf-8b82981022fd",
   "metadata": {},
   "source": [
    "2. Rate Limit Handling Script\n",
    "- A small script that repeatedly called the API to detect when rate limiting occurs.\n",
    "- Implemented retries and sleep timers to determine the best delay between requests."
   ]
  },
  {
   "cell_type": "code",
   "execution_count": 11,
   "id": "bad554d6-e315-4622-a2b3-162c6b05cda9",
   "metadata": {},
   "outputs": [
    {
     "name": "stdout",
     "output_type": "stream",
     "text": [
      "Attempt 1: Status 429\n",
      "Rate limited! Waiting...\n",
      "Attempt 2: Status 429\n",
      "Rate limited! Waiting...\n",
      "Attempt 3: Status 429\n",
      "Rate limited! Waiting...\n",
      "Attempt 4: Status 429\n",
      "Rate limited! Waiting...\n",
      "Attempt 5: Status 429\n",
      "Rate limited! Waiting...\n",
      "Attempt 6: Status 429\n",
      "Rate limited! Waiting...\n",
      "Attempt 7: Status 429\n",
      "Rate limited! Waiting...\n",
      "Attempt 8: Status 429\n",
      "Rate limited! Waiting...\n",
      "Attempt 9: Status 429\n",
      "Rate limited! Waiting...\n",
      "Attempt 10: Status 429\n",
      "Rate limited! Waiting...\n",
      "Attempt 11: Status 429\n",
      "Rate limited! Waiting...\n",
      "Attempt 12: Status 429\n",
      "Rate limited! Waiting...\n",
      "Attempt 13: Status 429\n",
      "Rate limited! Waiting...\n",
      "Attempt 14: Status 429\n",
      "Rate limited! Waiting...\n",
      "Attempt 15: Status 429\n",
      "Rate limited! Waiting...\n",
      "Attempt 16: Status 429\n",
      "Rate limited! Waiting...\n",
      "Attempt 17: Status 429\n",
      "Rate limited! Waiting...\n",
      "Attempt 18: Status 429\n",
      "Rate limited! Waiting...\n",
      "Attempt 19: Status 429\n",
      "Rate limited! Waiting...\n",
      "Attempt 20: Status 200\n"
     ]
    }
   ],
   "source": [
    "import requests\n",
    "import time\n",
    "\n",
    "BASE_URL = \"http://35.200.185.69:8000/v1/autocomplete?query=\"\n",
    "\n",
    "def test_rate_limit():\n",
    "    for i in range(20): \n",
    "        response = requests.get(BASE_URL + \"a\")\n",
    "        print(f\"Attempt {i+1}: Status {response.status_code}\")\n",
    "        if response.status_code == 429:\n",
    "            print(\"Rate limited! Waiting...\")\n",
    "            time.sleep(2)  \n",
    "\n",
    "test_rate_limit()\n"
   ]
  },
  {
   "cell_type": "markdown",
   "id": "06284873-03ff-4564-a9b6-78b86e4fdc2b",
   "metadata": {},
   "source": [
    "3. Recursive Search Prototype\n",
    "- Before the full implementation, tested how deep the autocomplete suggestions go.\n",
    "- A script that checked whether results changed when appending letters (a → ab → abc)."
   ]
  },
  {
   "cell_type": "code",
   "execution_count": 13,
   "id": "1f4618e1-364f-401e-9217-737f07476828",
   "metadata": {},
   "outputs": [
    {
     "name": "stdout",
     "output_type": "stream",
     "text": [
      "Prefix 'a' returned 10 results.\n",
      "Prefix 'ab' returned 10 results.\n",
      "Prefix 'abc' returned 1 results.\n"
     ]
    },
    {
     "data": {
      "text/plain": [
       "['abclmm']"
      ]
     },
     "execution_count": 13,
     "metadata": {},
     "output_type": "execute_result"
    }
   ],
   "source": [
    "def check_depth(prefix):\n",
    "    response = requests.get(BASE_URL + prefix)\n",
    "    if response.status_code == 200:\n",
    "        results = response.json().get(\"results\", [])\n",
    "        print(f\"Prefix '{prefix}' returned {len(results)} results.\")\n",
    "        return results\n",
    "    return []\n",
    "\n",
    "check_depth(\"a\")\n",
    "check_depth(\"ab\")\n",
    "check_depth(\"abc\")\n"
   ]
  },
  {
   "cell_type": "code",
   "execution_count": null,
   "id": "8832e3fc-fdd3-4890-a59f-c52f7dd437d3",
   "metadata": {},
   "outputs": [],
   "source": []
  }
 ],
 "metadata": {
  "kernelspec": {
   "display_name": "Python 3 (ipykernel)",
   "language": "python",
   "name": "python3"
  },
  "language_info": {
   "codemirror_mode": {
    "name": "ipython",
    "version": 3
   },
   "file_extension": ".py",
   "mimetype": "text/x-python",
   "name": "python",
   "nbconvert_exporter": "python",
   "pygments_lexer": "ipython3",
   "version": "3.12.4"
  }
 },
 "nbformat": 4,
 "nbformat_minor": 5
}
