{
 "cells": [
  {
   "cell_type": "markdown",
   "id": "b7c486dd-4ece-48ed-a170-c92ab36acc30",
   "metadata": {},
   "source": [
    "So, first we will start by importing the libraries that are required in this automation"
   ]
  },
  {
   "cell_type": "markdown",
   "id": "e78f0e93-774e-4823-85a3-4a5ea8e77b5c",
   "metadata": {},
   "source": [
    "Next , we provide the Base Url template for the case from which we will be handling API calls for all 3 versions"
   ]
  },
  {
   "cell_type": "markdown",
   "id": "935e9d89-e250-4f5b-b88f-500a53520837",
   "metadata": {},
   "source": [
    "On manual exploration, I found that the max result that we get from one query is 10 and there are further more names in the nested location so let's state the maximum result here first"
   ]
  },
  {
   "cell_type": "markdown",
   "id": "ce6946c4-ad89-47ae-a487-41eb973f64bb",
   "metadata": {},
   "source": [
    "To make sure that we dont get the error of too many requests i introduce a delay."
   ]
  },
  {
   "cell_type": "markdown",
   "id": "c2ead41d-985a-4f93-a68f-2b78e7ee41fe",
   "metadata": {},
   "source": [
    "Next, we will create a function that makes the API call with  a given prefix and test for case'a'"
   ]
  },
  {
   "cell_type": "markdown",
   "id": "edcbdd70-8252-49b2-b994-5978551d0fff",
   "metadata": {},
   "source": [
    "This function has the Parameters: \n",
    "- prefix (str): The current prefix to query.\n",
    "- all_names (set): A set to store all unique names.\n",
    "- request_counter (list): counter to track API requests.\n",
    "- base_url\n",
    "\n",
    "The function starts by taking a delay to avoid too many requests on the server, then it sends a query using the current prefix and increases the counter for every API call made. If the results come back with fewer entries than the maximum allowed, that means there aren’t any hidden names in that branch and saves those names. But if the results hit the maximum limit, it means there might be more names left so the function digs deeper by adding each letter of the alphabet to the prefix. It keeps track of every suggestion it finds along the way."
   ]
  },
  {
   "cell_type": "markdown",
   "id": "f400c410-3f65-4576-b7b8-a6e7334d89cc",
   "metadata": {},
   "source": [
    "Now, we make the main function that will be used to solve the whole statement "
   ]
  },
  {
   "cell_type": "markdown",
   "id": "afdd9bfe-c143-4249-a12b-0a1a24372664",
   "metadata": {},
   "source": [
    "on putting the whole code together "
   ]
  },
  {
   "cell_type": "code",
   "execution_count": null,
   "id": "8f94fba6-d43f-4de6-9934-2124dfcda751",
   "metadata": {},
   "outputs": [],
   "source": [
    "import requests\n",
    "import time\n",
    "import string\n",
    "import threading\n",
    "\n",
    "BASE_URL_TEMPLATE = \"http://35.200.185.69:8000/{}/autocomplete?query=\"\n",
    "MAX_RESULTS = 10  \n",
    "RATE_LIMIT_DELAY = 0.3  \n",
    "\n",
    "def get_suggestions(prefix, base_url):\n",
    "    url = f\"{base_url}{prefix}\"\n",
    "    \n",
    "    try:\n",
    "        print(f\"Fetching {url} ...\", flush=True)  # Debugging print\n",
    "        response = requests.get(url)\n",
    "        if response.status_code == 200:\n",
    "            return response.json().get(\"results\", [])\n",
    "        elif response.status_code == 429:\n",
    "            print(f\"Rate limited for prefix '{prefix}'. Waiting...\", flush=True)\n",
    "            time.sleep(1)\n",
    "            return get_suggestions(prefix, base_url)\n",
    "        else:\n",
    "            print(f\"Unexpected status {response.status_code} for prefix '{prefix}'\", flush=True)\n",
    "            return []\n",
    "    except Exception as e:\n",
    "        print(f\"Error for prefix '{prefix}': {e}\", flush=True)\n",
    "        return []\n",
    "\n",
    "def recursive_search(prefix, all_names, request_counter, base_url):\n",
    "    time.sleep(RATE_LIMIT_DELAY)\n",
    "    \n",
    "    suggestions = get_suggestions(prefix, base_url)\n",
    "    request_counter[0] += 1\n",
    "\n",
    "    print(f\"Prefix '{prefix}' returned {len(suggestions)} results.\", flush=True)\n",
    "\n",
    "    if not suggestions:\n",
    "        return\n",
    "    \n",
    "    if len(suggestions) < MAX_RESULTS:\n",
    "        all_names.update(suggestions)\n",
    "    else:\n",
    "        for char in string.ascii_lowercase:\n",
    "            recursive_search(prefix + char, all_names, request_counter, base_url)\n",
    "    \n",
    "    all_names.update(suggestions)\n",
    "\n",
    "def fetch_data_for_version(version):\n",
    "    base_url = BASE_URL_TEMPLATE.format(version)\n",
    "    all_names = set()\n",
    "    request_counter = [0]\n",
    "\n",
    "    print(f\"Starting extraction for API version: {version}\", flush=True)\n",
    "    \n",
    "    for char in string.ascii_lowercase:\n",
    "        recursive_search(char, all_names, request_counter, base_url)\n",
    "    \n",
    "    print(f\"\\n--- Extraction Complete for {version} ---\", flush=True)\n",
    "    print(f\"Total API Requests Made: {request_counter[0]}\", flush=True)\n",
    "    print(f\"Total Unique Names Found: {len(all_names)}\", flush=True)\n",
    "\n",
    "    with open(f\"names_{version}.txt\", \"w\") as file:\n",
    "        for name in sorted(all_names):\n",
    "            file.write(name + \"\\n\")\n",
    "\n",
    "def main():\n",
    "    api_versions = ['v1', 'v2', 'v3']\n",
    "    threads = []\n",
    "\n",
    "    for version in api_versions:\n",
    "        print(f\"Starting thread for {version}...\", flush=True)\n",
    "        thread = threading.Thread(target=fetch_data_for_version, args=(version,))\n",
    "        threads.append(thread)\n",
    "        thread.start()\n",
    "\n",
    "    for thread in threads:\n",
    "        thread.join()\n",
    "        print(f\"Thread for version {version} finished.\", flush=True)\n",
    "\n",
    "    print(\"\\n--- All API Versions Processed Successfully ---\", flush=True)\n",
    "\n",
    "main()"
   ]
  }
 ],
 "metadata": {
  "kernelspec": {
   "display_name": "Python 3 (ipykernel)",
   "language": "python",
   "name": "python3"
  },
  "language_info": {
   "codemirror_mode": {
    "name": "ipython",
    "version": 3
   },
   "file_extension": ".py",
   "mimetype": "text/x-python",
   "name": "python",
   "nbconvert_exporter": "python",
   "pygments_lexer": "ipython3",
   "version": "3.12.4"
  }
 },
 "nbformat": 4,
 "nbformat_minor": 5
}
